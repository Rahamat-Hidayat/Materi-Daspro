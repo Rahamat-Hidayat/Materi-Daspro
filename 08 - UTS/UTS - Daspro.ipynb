{
 "cells": [
  {
   "cell_type": "markdown",
   "metadata": {
    "collapsed": true
   },
   "source": [
    "### NAMA : RAHMAT HIDAYAT\n",
    "### NIM : 2131710043\n",
    "\n",
    "# Ujian Tengah Semester (UTS)\n",
    "\n",
    "- **NIM   :** \n",
    "- **Nama  :** \n",
    "- **Kelas :** MI-1E\n",
    "\n",
    "## Deskripsi\n",
    "+ Silahkan kerjakan soal yang sekiranya mudah dahulu\n",
    "+ Jawaban langsung ditulis di bawah soal\n",
    "+ Waktu pengerjaan UTS adalah *90 menit*\n",
    "    - submit jawaban ke LMS maksimal pukul 10.45, lebih dari itu **nilai dikurangi**\n",
    "    - submit dan pull-request via github akan diberi nilai tambah (maksimal pukul 10.50, lebih dari itu **tidak diberi** nilai tambah)\n",
    "\n",
    "## Soal UTS\n",
    "### Soal 1  (skor 30)\n",
    "Buatlah sebuah program untuk menentukan minimal lembar uang yang dikeluarkan berdasarkan inputan uang yang diinputkan user (menggunakan _library Scanner_). Lembar uang sesuai dengan lembar nominal mata uang Rupiah yaitu lembar uang 1.000, 2.000, 5.000, 10.000, 20.000, 50.000, dan 100.000.\n",
    "\n",
    "Contoh: ![Contoh Soal 1](images/Soal1.png)"
   ]
  },
  {
   "cell_type": "code",
   "execution_count": 9,
   "metadata": {},
   "outputs": [
    {
     "name": "stdout",
     "output_type": "stream",
     "text": [
      "*** Program menentukan minimall lembar mata uang yang dikeluarkan ***\n",
      "NIM : 2131710043\n",
      "NAMA : RAHMAT HIDAYAT\n",
      "-------------------\n",
      ">> Mulai\n",
      "Masukkan nominal uang: \n",
      "137000\n",
      ">> Hasil\n",
      "Lembar uang 100.000 : 1\n",
      "Lembar uang 50.000 : 0\n",
      "Lembar uang 20.000 : 1\n",
      "Lembar uang 10.000 : 1\n",
      "Lembar uang 5.000 : 1\n",
      "Lembar uang 2.000 : 1\n",
      "Lembar uang 1.000 : 0\n",
      ">> Selesai\n"
     ]
    }
   ],
   "source": [
    "/* Jawaban Soal 1 */\n",
    "import java.util.Scanner;\n",
    "Scanner input = new Scanner(System.in);\n",
    "int angka, sisa;\n",
    "\n",
    "System.out.println(\"*** Program menentukan minimall lembar mata uang yang dikeluarkan ***\");\n",
    "System.out.println(\"NIM : 2131710043\");\n",
    "System.out.println(\"NAMA : RAHMAT HIDAYAT\");\n",
    "System.out.println(\"-------------------\");\n",
    "\n",
    "System.out.println(\">> Mulai\");\n",
    "System.out.println(\"Masukkan nominal uang: \");\n",
    "angka = input.nextInt();\n",
    "int a=angka/100000;\n",
    "sisa=angka%100000;\n",
    "int b=sisa/50000;\n",
    "sisa=sisa%50000;\n",
    "int c=sisa/20000;\n",
    "sisa=sisa%20000;\n",
    "int d=sisa/10000;\n",
    "sisa=sisa%10000;\n",
    "int e=sisa/5000;\n",
    "sisa=sisa%5000;\n",
    "int f=sisa/2000;\n",
    "sisa=sisa%2000;\n",
    "int g=sisa/1000;\n",
    "sisa=sisa%1000;\n",
    "\n",
    "System.out.println(\">> Hasil\");\n",
    "System.out.println(\"Lembar uang 100.000 : \"+a);\n",
    "System.out.println(\"Lembar uang 50.000 : \"+b);\n",
    "System.out.println(\"Lembar uang 20.000 : \"+c);\n",
    "System.out.println(\"Lembar uang 10.000 : \"+d);\n",
    "System.out.println(\"Lembar uang 5.000 : \"+e);\n",
    "System.out.println(\"Lembar uang 2.000 : \"+f);\n",
    "System.out.println(\"Lembar uang 1.000 : \"+g);\n",
    "System.out.println(\">> Selesai\");\n",
    "\n"
   ]
  },
  {
   "cell_type": "markdown",
   "metadata": {},
   "source": [
    "### Soal 2 (skor 20)\n",
    "Buatlah program dengan menggunakan **semua perulangan** _(for, while, do-while)_ untuk menampilkan huruf abjad A-Z secara terurut. Program akan selesai menampilkan huruf abjad (selesai _looping_) ketika huruf yang ditampilkan sama dengan huruf yang dimasukkan oleh pengguna.\n",
    "\n",
    "Contoh ![Contoh Soal 2](images/Soal2.png)"
   ]
  },
  {
   "cell_type": "code",
   "execution_count": 2,
   "metadata": {},
   "outputs": [],
   "source": [
    "/* Jawaban Soal 2 */\n",
    "\n"
   ]
  },
  {
   "cell_type": "markdown",
   "metadata": {},
   "source": [
    "### Soal 3 (skor 20/30)\n",
    "Buatlah sebuah program dengan menggunakan **satu jenis perulangan** untuk menghitung nilai berdasarkan masukkan dari user. Perulangan akan terus berjalan jika user mengetikkan huruf kapital **\"Y\"** dan perulangan akan berhenti saat user mengetikkan huruf kapital **\"N\"**. \n",
    "Setelah perulangan berhenti, program akan memilih **angka terkecil** dan **angka terbesar** dari angka yang dimasukkan user dan menghitung jumlah dan rata-rata angkat-angka tersebut. Program boleh menggunakan salah satu perulangan : \n",
    "\n",
    "  + _While_ (20 poin), atau\n",
    "  + _Do-while_ (20 poin), atau\n",
    "  + _For_ (30 poin)\n",
    "  \n",
    "Contoh ![Contoh Soal 3](images/Soal3.png)\n"
   ]
  },
  {
   "cell_type": "code",
   "execution_count": 10,
   "metadata": {},
   "outputs": [
    {
     "name": "stdout",
     "output_type": "stream",
     "text": [
      "*** Program menghitng angka ***\n",
      "NIM : 2131710043\n",
      "NAMA : RAHMAT HIDAYAT\n"
     ]
    }
   ],
   "source": [
    "/* Jawaban Soal 3 */\n",
    "import java.util.Scanner ;\n",
    "Scanner input = new Scanner(System.in);\n",
    "\n",
    "\n",
    "System.out.println(\"*** Program menghitng angka ***\");\n",
    "System.out.println(\"NIM : 2131710043\");\n",
    "System.out.println(\"NAMA : RAHMAT HIDAYAT\");\n",
    "\n"
   ]
  },
  {
   "cell_type": "markdown",
   "metadata": {},
   "source": [
    "### Soal 4 (skor 30++)\n",
    "Buatlah program klasifikasi umur yang sesuai dengan flowchar berikut **(skor 30)**. \n",
    "![Contoh Soal 4](images/Soal4.png)\n",
    "\n",
    "Saat perulangan berhenti. Hitung jumlah rata-rata umur yang telah dimasukkan, dan dari rata-rata tersebut termasuk klasifikasi umur apa? **(+poin 20)**"
   ]
  },
  {
   "cell_type": "code",
   "execution_count": 4,
   "metadata": {},
   "outputs": [],
   "source": [
    "/* Jawaban Soal 4 */\n",
    "\n"
   ]
  }
 ],
 "metadata": {
  "kernelspec": {
   "display_name": "Java",
   "language": "java",
   "name": "java"
  },
  "language_info": {
   "codemirror_mode": "java",
   "file_extension": ".jshell",
   "mimetype": "text/x-java-source",
   "name": "Java",
   "pygments_lexer": "java",
   "version": "11.0.11+9-LTS-194"
  }
 },
 "nbformat": 4,
 "nbformat_minor": 1
}
